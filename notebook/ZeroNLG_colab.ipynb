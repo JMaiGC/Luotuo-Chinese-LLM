{
  "nbformat": 4,
  "nbformat_minor": 0,
  "metadata": {
    "colab": {
      "provenance": [],
      "gpuType": "T4",
      "authorship_tag": "ABX9TyMCvDiWNhlcp0YJrTdyfZ7I",
      "include_colab_link": true
    },
    "kernelspec": {
      "name": "python3",
      "display_name": "Python 3"
    },
    "language_info": {
      "name": "python"
    },
    "accelerator": "GPU",
    "gpuClass": "standard"
  },
  "cells": [
    {
      "cell_type": "markdown",
      "metadata": {
        "id": "view-in-github",
        "colab_type": "text"
      },
      "source": [
        "<a href=\"https://colab.research.google.com/github/LC1332/Luotuo-Chinese-LLM/blob/main/notebook/ZeroNLG_colab.ipynb\" target=\"_parent\"><img src=\"https://colab.research.google.com/assets/colab-badge.svg\" alt=\"Open In Colab\"/></a>"
      ]
    },
    {
      "cell_type": "code",
      "source": [
        "# clone the repo\n",
        "!git clone https://github.com/yangbang18/ZeroNLG"
      ],
      "metadata": {
        "colab": {
          "base_uri": "https://localhost:8080/"
        },
        "id": "ZU-lC4ayP618",
        "outputId": "4ff3b5e5-946d-4a91-8259-5b7d8a8daf42"
      },
      "execution_count": 1,
      "outputs": [
        {
          "output_type": "stream",
          "name": "stdout",
          "text": [
            "Cloning into 'ZeroNLG'...\n",
            "remote: Enumerating objects: 89, done.\u001b[K\n",
            "remote: Counting objects: 100% (89/89), done.\u001b[K\n",
            "remote: Compressing objects: 100% (71/71), done.\u001b[K\n",
            "remote: Total 89 (delta 24), reused 78 (delta 17), pack-reused 0\u001b[K\n",
            "Unpacking objects: 100% (89/89), 90.75 KiB | 2.16 MiB/s, done.\n"
          ]
        }
      ]
    },
    {
      "cell_type": "code",
      "source": [
        "# enter the repo\n",
        "%cd ZeroNLG"
      ],
      "metadata": {
        "colab": {
          "base_uri": "https://localhost:8080/"
        },
        "id": "J_rN7_foQHEp",
        "outputId": "61633282-c1ea-44dd-94b3-94e190cc4fa2"
      },
      "execution_count": 2,
      "outputs": [
        {
          "output_type": "stream",
          "name": "stdout",
          "text": [
            "/content/ZeroNLG\n"
          ]
        }
      ]
    },
    {
      "cell_type": "code",
      "source": [
        "!pip install transformers\n",
        "!pip install sentence_transformers\n",
        "!pip install wget\n",
        "!pip install stanfordcorenlp\n",
        "!pip install \"git+https://github.com/salaniz/pycocoevalcap.git\"\n",
        "!pip install decord"
      ],
      "metadata": {
        "id": "swfWvrYUQLoD"
      },
      "execution_count": null,
      "outputs": []
    },
    {
      "cell_type": "code",
      "source": [
        "from zeronlg import ZeroNLG\n",
        "\n",
        "# Automatically download the model from Huggingface Hub\n",
        "# Note: this model is especially pre-trained for visual captioning\n",
        "model = ZeroNLG('zeronlg-4langs-vc')\n",
        "\n",
        "# `images` can be a remote image url, a local image/video file, etc\n",
        "# `lang` should be one of English ('en'), Chinese ('zh'), German ('de'), and French ('fr')\n",
        "url = 'https://img2.baidu.com/it/u=1856500011,1563285204&fm=253&fmt=auto&app=138&f=JPEG?w=667&h=500'\n"
      ],
      "metadata": {
        "id": "isIAsZW9QQwk"
      },
      "execution_count": null,
      "outputs": []
    },
    {
      "cell_type": "code",
      "source": [
        "caption = model.forward(images=url, lang='en', num_beams=3, task='caption') \n",
        "# caption = \"dogs play in the snow\"\n",
        "\n",
        "print(caption)\n",
        "\n",
        "caption = model.forward(images=url, lang='zh', num_beams=3, task='caption') \n",
        "# caption = \"狗 在 雪 地 里 玩 耍\"\n",
        "print(caption)\n",
        "\n",
        "# Althernatively, you can call the specific forward function\n",
        "caption = model.forward_caption(images=url, lang='en', num_beams=3)\n",
        "print(caption)"
      ],
      "metadata": {
        "colab": {
          "base_uri": "https://localhost:8080/"
        },
        "id": "xLPshdHyRNZz",
        "outputId": "1bbdf739-bd60-4a50-91f2-8ba3c8cc6c9d"
      },
      "execution_count": 18,
      "outputs": [
        {
          "output_type": "stream",
          "name": "stdout",
          "text": [
            "['dogs play in the snow on a sunny winter day']\n",
            "['狗 在 雪 地 里 玩 耍']\n",
            "['dogs play in the snow on a sunny winter day']\n"
          ]
        }
      ]
    },
    {
      "cell_type": "code",
      "execution_count": 20,
      "metadata": {
        "colab": {
          "base_uri": "https://localhost:8080/"
        },
        "id": "Z8Y8ttIVPotg",
        "outputId": "50163f77-7d96-449a-f010-2b215874501d"
      },
      "outputs": [
        {
          "output_type": "stream",
          "name": "stdout",
          "text": [
            "['白 色 背 景 中 玻 璃 杯 中 的 红 酒']\n",
            "['a glass of red wine in a glass vase on a white background']\n",
            "['一 杯 橙 汁 的 特 写 ， 上 面 放 着 一 杯 白 葡 萄 酒 ， 上 面 放 着 一 杯 香 槟']\n",
            "['a cup of tea and a cup of coffee on a wooden table']\n",
            "['一 个 穿 着 西 装 的 商 人 在 办 公 室 里 用 智 能 手 机 打 字 的 肖 像']\n",
            "['man holding a dollar bill in his hands isolated on a white background']\n",
            "['木 地 板 上 的 木 制 地 板']\n",
            "['example of a trendy wooden floor plan']\n",
            "['带 有 白 色 墙 壁 的 现 代 客 厅 设 计 示 例']\n",
            "['a modern living room with white walls and a red brick fireplace']\n"
          ]
        }
      ],
      "source": [
        "for i in range(1,6):\n",
        "  fname = f\"/content/{i}.jpg\"\n",
        "  caption = model.forward(images=fname, lang='zh', num_beams=3, task='caption') \n",
        "  # caption = \"狗 在 雪 地 里 玩 耍\"\n",
        "  print(caption)\n",
        "\n",
        "  # Althernatively, you can call the specific forward function\n",
        "  caption = model.forward_caption(images=fname, lang='en', num_beams=3)\n",
        "  print(caption)"
      ]
    },
    {
      "cell_type": "code",
      "source": [],
      "metadata": {
        "id": "58FrgkzRSNBE"
      },
      "execution_count": null,
      "outputs": []
    }
  ]
}