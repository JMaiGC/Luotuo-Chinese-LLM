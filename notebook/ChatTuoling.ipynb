{
  "cells": [
    {
      "attachments": {},
      "cell_type": "markdown",
      "metadata": {
        "id": "fB4TiOyU2aPk"
      },
      "source": [
        "# ChatTuoling: an interface for ChatGLM LoRA model\n",
        "\n",
        "Developed by Ziang Leng 冷子昂, Qiyuan Chen 陈启源 and Cheng Li 李鲁鲁.\n",
        "\n",
        "This is a simple script based on the project of Alpaca-LoRA-Server.git\n"
      ]
    },
    {
      "cell_type": "markdown",
      "metadata": {
        "id": "fXdpt97I5dr7",
        "vscode": {
          "languageId": "plaintext"
        }
      },
      "source": [
        "[![Open In Colab](https://colab.research.google.com/assets/colab-badge.svg)](https://colab.research.google.com/github/LC1332/Luotuo-Chinese-LLM/blob/main/notebook/ChatTuoling.ipynb)"
      ]
    },
    {
      "cell_type": "code",
      "execution_count": null,
      "metadata": {
        "vscode": {
          "languageId": "plaintext"
        }
      },
      "outputs": [],
      "source": [
        "!git clone https://github.com/SirlyDreamer/Luotuo-Chat-Server.git\n",
        "!git clone https://github.com/LC1332/luotuo-silk-road.git ./luotuo_silk_road\n",
        "!cd ./Luotuo-Chat-Server && pip install -r requirements.txt\n",
        "!pip install cpm_kernels"
      ]
    },
    {
      "cell_type": "code",
      "execution_count": null,
      "metadata": {
        "vscode": {
          "languageId": "plaintext"
        }
      },
      "outputs": [],
      "source": [
        "%env BASE_URL=THUDM/chatglm-6b\n",
        "%env FINETUNED_CKPT_URL=../luotuo_silk_road/TuoLing/output/luotuoC.pt"
      ]
    },
    {
      "attachments": {},
      "cell_type": "markdown",
      "metadata": {
        "id": "ULPNl6Lf3f-X"
      },
      "source": [
        "启动下面的代码后，复制开放链接就可以玩了。\n",
        "这是一个文本摘要模型，您可以将长文本数据，直接复制到网页中进行摘要。"
      ]
    },
    {
      "cell_type": "code",
      "execution_count": null,
      "metadata": {
        "vscode": {
          "languageId": "plaintext"
        }
      },
      "outputs": [],
      "source": [
        "!cd ./Luotuo-Chat-Server && python app.py --base_url $BASE_URL --ft_ckpt_url $FINETUNED_CKPT_URL --port 6006 --share"
      ]
    }
  ],
  "metadata": {
    "accelerator": "GPU",
    "colab": {
      "provenance": []
    },
    "gpuClass": "standard",
    "kernelspec": {
      "display_name": "Python 3",
      "name": "python3"
    },
    "language_info": {
      "name": "python"
    }
  },
  "nbformat": 4,
  "nbformat_minor": 0
}
